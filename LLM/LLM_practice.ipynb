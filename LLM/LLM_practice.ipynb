{
 "cells": [
  {
   "cell_type": "code",
   "execution_count": 7,
   "metadata": {},
   "outputs": [],
   "source": [
    "import torch\n",
    "from torch import nn\n",
    "from torch.nn import functional as F\n",
    "import numpy as np \n",
    "from matplotlib import pyplot as plt \n",
    "import time\n",
    "import pandas as pd\n",
    "import urllib.request\n",
    "\n"
   ]
  },
  {
   "cell_type": "markdown",
   "metadata": {},
   "source": [
    "## The basic model"
   ]
  },
  {
   "cell_type": "code",
   "execution_count": 8,
   "metadata": {},
   "outputs": [],
   "source": [
    "url = \"https://raw.githubusercontent.com/karpathy/char-rnn/master/data/tinyshakespeare/input.txt\"\n",
    "file_name = \"tinyshakespare.txt\"\n",
    "urllib.request.urlretrieve(url,file_name)\n",
    "lines=open(file_name, 'r').read()\n",
    "\n",
    "vocab=sorted(list(set(lines)))"
   ]
  },
  {
   "cell_type": "code",
   "execution_count": null,
   "metadata": {},
   "outputs": [],
   "source": [
    "#Python 스크립트는 지정된 URL에서 Tinyshakespeare 데이터 세트를 가져와서 \"tinyshakespeare.txt\"라는 파일 이름으로 로컬에 저장"
   ]
  },
  {
   "cell_type": "code",
   "execution_count": 9,
   "metadata": {},
   "outputs": [],
   "source": [
    "DEFAULT_CONFIG={\n",
    "    'd_model':128,\n",
    "    'vocab_size':len(vocab),\n",
    "    'batch_size':8,\n",
    "    'context_window':16\n",
    "}"
   ]
  },
  {
   "cell_type": "code",
   "execution_count": 10,
   "metadata": {},
   "outputs": [
    {
     "name": "stdout",
     "output_type": "stream",
     "text": [
      "Printing the first 10 characters of the vocab list: ['\\n', ' ', '!', '$', '&', \"'\", ',', '-', '.', '3']\n",
      "Total number of character in our dataset (Vocabulary Size): 65\n"
     ]
    }
   ],
   "source": [
    "#dataset 읽기\n",
    "lines = open(\"tinyshakespare.txt\", 'r').read()\n",
    "vocab = sorted(list(set(lines)))\n",
    "print('Printing the first 10 characters of the vocab list:', vocab[:10])\n",
    "print('Total number of character in our dataset (Vocabulary Size):', len(vocab))"
   ]
  },
  {
   "cell_type": "code",
   "execution_count": 11,
   "metadata": {},
   "outputs": [
    {
     "data": {
      "text/plain": [
       "'morning'"
      ]
     },
     "execution_count": 11,
     "metadata": {},
     "output_type": "execute_result"
    }
   ],
   "source": [
    "#mapping하기\n",
    "#integers to characters(itos) and characters to integers(stoi)\n",
    "itos={i: ch for i, ch in enumerate(vocab)}\n",
    "\n",
    "stoi={ch: i for i, ch in enumerate(vocab)}\n",
    "\n",
    "def encode(s):\n",
    "    return [stoi[ch] for ch in s]\n",
    "\n",
    "def decode(l):\n",
    "    return ''.join(itos[i] for i in l)\n",
    "\n",
    "decode(encode(\"morning\"))"
   ]
  },
  {
   "cell_type": "code",
   "execution_count": 12,
   "metadata": {},
   "outputs": [
    {
     "data": {
      "text/plain": [
       "'morning'"
      ]
     },
     "execution_count": 12,
     "metadata": {},
     "output_type": "execute_result"
    }
   ],
   "source": [
    "#Encoding function\n",
    "def encode(s):\n",
    "    return [stoi[ch] for ch in s]\n",
    "#Decode\n",
    "def decode(l):\n",
    "    return''.join([itos[i] for i in l])\n",
    "\n",
    "#example\n",
    "decode(encode(\"morning\"))"
   ]
  },
  {
   "cell_type": "code",
   "execution_count": 13,
   "metadata": {},
   "outputs": [
    {
     "name": "stdout",
     "output_type": "stream",
     "text": [
      "torch.Size([1115394])\n"
     ]
    }
   ],
   "source": [
    "#pytorch 이용하기\n",
    "dataset = torch.tensor(encode(lines), dtype=torch.int8)\n",
    "print(dataset.shape)"
   ]
  },
  {
   "cell_type": "code",
   "execution_count": 14,
   "metadata": {},
   "outputs": [],
   "source": [
    "def get_batches(data, split, batch_size, context_window, config=DEFAULT_CONFIG):\n",
    "    # 데이터셋을 훈련, 검증 및 테스트 세트로 분할\n",
    "    train=data[:int(.8*len(data))]\n",
    "    val=data[int(.8 * len(data)): int(.9*len(data))]\n",
    "    test=data[int(.9 *len(data)):]\n",
    "    \n",
    "    # Determine whcih split to use\n",
    "    batch_data=train\n",
    "    if split=='val':\n",
    "        batch_data=val\n",
    "    if split=='test':\n",
    "        batch_data=test\n",
    "    \n",
    "    # 어떤 분할을 사용할지 결정\n",
    "    ix=torch.randint(0,batch_data.size(0)-context_window-1, (batch_size,))\n",
    "    \n",
    "    # 입력 시퀀스(x)와 해당하는 목표 시퀀스(y)를 생성\n",
    "    x=torch.stack([batch_data[i:i+context_window] for i in ix]).long()\n",
    "    y=torch.stack([batch_data[i+1:i+context_window+1] for i in ix]).long()\n",
    "    \n",
    "    return x,y"
   ]
  },
  {
   "cell_type": "code",
   "execution_count": 22,
   "metadata": {},
   "outputs": [
    {
     "data": {
      "text/plain": [
       "[('y!\\nMis-shapen ch', '!\\nMis-shapen cha'),\n",
       " (' gifts, am bound', 'gifts, am bound '),\n",
       " ('hese articles.\\n\\n', 'ese articles.\\n\\nK'),\n",
       " ('ies. Nay, more,\\n', 'es. Nay, more,\\nS'),\n",
       " ('all not need tra', 'll not need tran'),\n",
       " ('ANUS:\\nIt is apar', 'NUS:\\nIt is apart'),\n",
       " (\"s\\nease:' O, an y\", \"\\nease:' O, an yo\"),\n",
       " ('sire;\\nThou, bein', 'ire;\\nThou, being')]"
      ]
     },
     "execution_count": 22,
     "metadata": {},
     "output_type": "execute_result"
    }
   ],
   "source": [
    "xs, ys=get_batches(dataset, 'train', DEFAULT_CONFIG['batch_size'], DEFAULT_CONFIG['context_window'])\n",
    "\n",
    "decoded_samples=[(decode(xs[i].tolist()), decode(ys[i].tolist())) for i in range(len(xs))]\n",
    "\n",
    "decoded_samples"
   ]
  },
  {
   "cell_type": "code",
   "execution_count": 23,
   "metadata": {},
   "outputs": [],
   "source": [
    "# LLaMA 아키텍처를 평가하는 전용함수를 만들 준비\n",
    "# 학습반복 중에 모델의 성능을 평가-> 학습프로세스 중에 지속적인 평가를 가능하게 하기 위함\n",
    "\n",
    "@torch.no_grad()\n",
    "def evaluate_loss(model, config=DEFAULT_CONFIG):\n",
    "    out={}\n",
    "    \n",
    "    model.eval()\n",
    "    \n",
    "    for split in [\"train\", \"val\"]:\n",
    "        \n",
    "        losses=[]\n",
    "        \n",
    "        for _ in range(10):\n",
    "            xb,yb=get_batches(dataset, split, config['batch_size'], config['context_window'])\n",
    "            _,loss=model(xb,yb)\n",
    "            losses.append(loss.item())\n",
    "            \n",
    "        out[split]=np.mean(losses)\n",
    "    model.train()\n",
    "    \n",
    "    return out"
   ]
  },
  {
   "cell_type": "markdown",
   "metadata": {},
   "source": [
    "## RMSNorm for pre-normalization\n",
    "초기화(initialization) 단계에서 이 클래스는 하나의 스케일 파라미터를 등록(register)한다.\n",
    " RMSNorm 클래스는 특정한 정규화 기법을 사용하여 입력을 조정하고, 이 조정된 값을 스케일 파라미터로 조절하여 반환하는 역할을 한다. 이러한 기능은 LLaMA에서 LayerNorm 작업을 대신하는데 사용된다."
   ]
  },
  {
   "cell_type": "code",
   "execution_count": 24,
   "metadata": {},
   "outputs": [],
   "source": [
    "class RMSNorm(nn.Module):\n",
    "    def __init__(self, layer_shape, eps=1e-8, bias=False):\n",
    "        super(RMSNorm, self).__init__()\n",
    "        \n",
    "        # scale이라는 학습가능한 매개변수를 모듈의 매개변수로 등록\n",
    "        self.register_parameter('scale', nn.Parameter(torch.ones(layer_shape)))\n",
    "    \n",
    "    def forward(self,x):\n",
    "        \"\"\"\n",
    "        Assumes shape is (batch, seq_len, d_model)\n",
    "        \"\"\"\n",
    "        \n",
    "        #Frobenius norm을 계산하고, RMS=1/sqrt(N)* Frobenius norm으로 정의\n",
    "        ff_rms=torch.linalg.norm(x, dim=(1,2))*x[0].numel() ** -.5\n",
    "        \n",
    "        # 입력텐서 'x'를 RMS에 대해 정규화\n",
    "        raw=x/ff_rms.unsqueeze(-1).unsqueeze(-1)\n",
    "        \n",
    "        # 정규화된 텐서를 학습 가능한 매개변수 scale을 사용하여 스케일링 한다.\n",
    "        return self.scale[:x.shape[1],:].unsqueeze(0) * raw"
   ]
  },
  {
   "cell_type": "code",
   "execution_count": 25,
   "metadata": {},
   "outputs": [],
   "source": [
    "class SimpleModel_RMS(nn.Module):\n",
    "    def __init__(self, config=DEFAULT_CONFIG):\n",
    "        super().__init__()\n",
    "        self.config=config\n",
    "        \n",
    "        #문자 인덱스를 벡터로 변환하기 위한 임베딩 레이어를 생성\n",
    "        self.embedding=nn.Embedding(config['vocab_size'], config['d_model'])\n",
    "        \n",
    "        #pre-normalization를 위한 RMSNorm layer\n",
    "        self.rms=RMSNorm(config['context_window'], config['d_model'])\n",
    "        \n",
    "        #특성 간의 관계를 모델링하기 위한 선형 레이어\n",
    "        self.linear=nn.Sequential(\n",
    "            nn.Linear(config['d_model'], config['d_model']),\n",
    "            nn.ReLU(),\n",
    "            nn.Linear(config['d_model'], config['vocab_size']),\n",
    "        )\n",
    "    \n",
    "    def forward(self, idx, targets=None):\n",
    "        # 임베딩 레이어는 문자 인덱스를 벡터로 변환\n",
    "        x =self.embedding(idx)\n",
    "        \n",
    "        # 특성 간의 관계를 모델링하기 위한 선형 레이어\n",
    "        logits=self.linear(x)\n",
    "        \n",
    "        if targets is not None:\n",
    "            loss=F.cross_entropy(logits.view(-1, self.config['vocab_size']), targets.view(-1))\n",
    "            return logits, loss\n",
    "        else:\n",
    "            return logits"
   ]
  },
  {
   "cell_type": "code",
   "execution_count": 27,
   "metadata": {},
   "outputs": [],
   "source": [
    "DEFAULT_CONFIG.update({\n",
    "    'epochs': 1000,\n",
    "    'log_interval':10,\n",
    "    'batch_size':32,\n",
    "})\n",
    "\n",
    "model=SimpleModel_RMS(DEFAULT_CONFIG)\n",
    "\n",
    "xs, ys=get_batches(dataset, 'train', DEFAULT_CONFIG['batch_size'], DEFAULT_CONFIG['context_window'])\n",
    "\n",
    "logits, loss=model(xs, ys)\n",
    "\n",
    "optimizer=torch.optim.Adam(model.parameters())"
   ]
  },
  {
   "cell_type": "code",
   "execution_count": 29,
   "metadata": {},
   "outputs": [
    {
     "name": "stdout",
     "output_type": "stream",
     "text": [
      "Validation loss: 2.5273885250091555\n"
     ]
    },
    {
     "data": {
      "text/plain": [
       "<Axes: >"
      ]
     },
     "execution_count": 29,
     "metadata": {},
     "output_type": "execute_result"
    },
    {
     "data": {
      "image/png": "[encoded data removed]",
      "text/plain": [
       "<Figure size 640x480 with 1 Axes>"
      ]
     },
     "metadata": {},
     "output_type": "display_data"
    }
   ],
   "source": [
    "def train(model, optimizer, scheduler=None, config=DEFAULT_CONFIG, print_logs=False):\n",
    "    losses=[]\n",
    "    \n",
    "    start_time=time.time()\n",
    "    \n",
    "    for epoch in range(config['epochs']):\n",
    "        optimizer.zero_grad()\n",
    "        \n",
    "        xs, ys=get_batches(dataset, 'train', config['batch_size'], config['context_window'])\n",
    "        \n",
    "        logits, loss=model(xs, targets=ys)\n",
    "        loss.backward()\n",
    "        optimizer.step()\n",
    "        \n",
    "        if scheduler:\n",
    "            scheduler.step()\n",
    "        \n",
    "        if epoch%config['log_interval']==0:\n",
    "            batch_time=time.time()-start_time\n",
    "            x=evaluate_loss(model)\n",
    "            \n",
    "            losses+=[x]\n",
    "            \n",
    "            if print_logs:\n",
    "                print(f\"Epoch {epoch} | val loss {x['val']:.3f}|Time {batch_time:.3f}|ETA in seconds{batch_time*(config['epochs']-epoch)/config['log_interval']:.3f}\")\n",
    "                \n",
    "            start_time=time.time()\n",
    "            \n",
    "            if scheduler:\n",
    "                print(\"lr: \", scheduler.get_lr())\n",
    "    print(\"Validation loss:\", losses[-1]['val'])\n",
    "    \n",
    "    return pd.DataFrame(losses).plot()\n",
    "\n",
    "train(model, optimizer)"
   ]
  },
  {
   "cell_type": "markdown",
   "metadata": {},
   "source": [
    "## Rotary Embeddings\n",
    "RoPE에서는 시퀀스 내 토큰의 위치를 나타내기 위해 임베딩을 회전시키고 각 위치에서 다른 회전을 적용해야 한다. \n",
    "일반적으로 RoPE는 코사인(cosine) 및 사인(sine) 함수를 사용하여 각 위치에 대한 회전을 계산한다. 여기에 사용된 코사인 및 사인 값은 각 위치의 고유한 값을 기반으로 한다."
   ]
  },
  {
   "cell_type": "code",
   "execution_count": 41,
   "metadata": {},
   "outputs": [],
   "source": [
    "def get_rotary_matrix(context_window, embedding_dim):\n",
    "    # 로터리 매트릭스를 초기화하고, 값은 모두 0으로 설정된 텐서를 생성\n",
    "    R = torch.zeros((context_window, embedding_dim, embedding_dim), requires_grad=False)\n",
    "    \n",
    "    # 컨텍스트 창의 각 위치를 순회(loop)\n",
    "    for position in range(context_window):\n",
    "        # 임베딩의 각 차원을 순회(loop)\n",
    "        for i in range(embedding_dim // 2):\n",
    "            # 위치와 임베딩 차원을 기반으로 회전 각도(theta)를 계산\n",
    "            theta = 10000. ** (-2. * (i - 1) / embedding_dim)\n",
    "            # 사인과 코사인 함수를 사용하여 회전된 행렬 요소를 계산\n",
    "            m_theta = position * theta\n",
    "            R[position, 2 * i, 2 * i] = np.cos(m_theta)\n",
    "            R[position, 2 * i, 2 * i + 1] = -np.sin(m_theta)\n",
    "            R[position, 2 * i + 1, 2 * i] = np.sin(m_theta)\n",
    "            R[position, 2 * i + 1, 2 * i + 1] = np.cos(m_theta)\n",
    "    return R"
   ]
  },
  {
   "cell_type": "markdown",
   "metadata": {},
   "source": [
    "## Masked Attention Head\n",
    "트랜스포머 아키텍처에서는 어텐션 헤드(attention heads)를 사용\n",
    "어텐션 헤드는 주어진 쿼리(Query), 키(Key), 밸류(Value)에 대해 어텐션 가중치를 계산한다. 마스킹된 어텐션은 주어진 위치 이전의 위치에 대한 정보를 사용하지 않도록 가리는데 사용한다."
   ]
  },
  {
   "cell_type": "code",
   "execution_count": 42,
   "metadata": {},
   "outputs": [],
   "source": [
    "class RoPEAttentionHead(nn.Module):\n",
    "    def __init__(self, config):\n",
    "        super().__init__()\n",
    "        self.config = config\n",
    "        # Linear transformation for query\n",
    "        self.w_q = nn.Linear(config['d_model'], config['d_model'], bias=False)\n",
    "        # Linear transformation for key\n",
    "        self.w_k = nn.Linear(config['d_model'], config['d_model'], bias=False)\n",
    "        # Linear transformation for value\n",
    "        self.w_v = nn.Linear(config['d_model'], config['d_model'], bias=False)\n",
    "        # Obtain rotary matrix for positional embeddings\n",
    "        self.R = get_rotary_matrix(config['context_window'], config['d_model'])\n",
    "\n",
    "    def get_rotary_matrix(context_window, embedding_dim):\n",
    "        #RoPE(로터리 포지셔널 임베딩)를 위한 회전 매트릭스를 생성\n",
    "        R = torch.zeros((context_window, embedding_dim, embedding_dim), requires_grad=False)\n",
    "        for position in range(context_window):\n",
    "            for i in range(embedding_dim//2):\n",
    "                \n",
    "                # Rest of the code\n",
    "                ...\n",
    "\n",
    "        return R\n",
    "\n",
    "    def forward(self, x, return_attn_weights=False):\n",
    "        # x: (배치, 시퀀스 길이, 차원) 형태의 입력 텐서\n",
    "\n",
    "        b, m, d = x.shape  # batch size, sequence length, dimension\n",
    "\n",
    "        # Q, K, 및 V에 대한 선형 변환\n",
    "        q = self.w_q(x)\n",
    "        k = self.w_k(x)\n",
    "        v = self.w_v(x)\n",
    "\n",
    "        # RoPE(로터리 포지셔널 임베딩) 매트릭스를 사용하여 Q와 K를 회전\n",
    "        q_rotated = (torch.bmm(q.transpose(0, 1), self.R[:m])).transpose(0, 1)\n",
    "        k_rotated = (torch.bmm(k.transpose(0, 1), self.R[:m])).transpose(0, 1)\n",
    "\n",
    "        # 스케일링된 닷-프로덕트 어텐션 수행\n",
    "        activations = F.scaled_dot_product_attention(\n",
    "            q_rotated, k_rotated, v, dropout_p=0.1, is_causal=True\n",
    "        )\n",
    "\n",
    "        if return_attn_weights:\n",
    "            # 어텐션 마스크 생성\n",
    "            attn_mask = torch.tril(torch.ones((m, m)), diagonal=0)\n",
    "            # 어텐션 가중치 계산 및 casual 마스크 추가\n",
    "            attn_weights = torch.bmm(q_rotated, k_rotated.transpose(1, 2)) / np.sqrt(d) + attn_mask\n",
    "            attn_weights = F.softmax(attn_weights, dim=-1)\n",
    "            return activations, attn_weights\n",
    "\n",
    "        return activations"
   ]
  },
  {
   "cell_type": "markdown",
   "metadata": {},
   "source": [
    "## Multi-Head attention machanism"
   ]
  },
  {
   "cell_type": "code",
   "execution_count": 48,
   "metadata": {},
   "outputs": [],
   "source": [
    "class RoPEMaskedMultiheadAttention(nn.Module):\n",
    "    def __init__(self, config):\n",
    "        super().__init__()\n",
    "        self.config=config\n",
    "        # RoPEMaskedAttentionHead 인스턴스의 목록을 attention heads로 생성\n",
    "        self.heads=nn.ModuleList([\n",
    "            RoPEAttentionHead(config) for _ in range(config['n_heads'])\n",
    "        ])\n",
    "        # Linear layer after concatenating heads\n",
    "        self.linear=nn.Linear(config['n_heads']* config['d_model'], config['d_model'])\n",
    "        self.dropout=nn.Dropout(.1) # Dropout layer\n",
    "    \n",
    "    def forward(self, x):\n",
    "        # x: input tensor of shape (batch, sequence length, dimension)\n",
    "        \n",
    "        # 각 어텐션 헤드를 처리하고 결과를 연결\n",
    "        heads=[h(x) for h in self.heads]\n",
    "        x=torch.cat(heads, dim=-1)\n",
    "        \n",
    "        # 연결된 출력에 선형 변환 적용\n",
    "        x=self.linear(x)\n",
    "        \n",
    "        # Apply dropout\n",
    "        x=self.dropout(x)\n",
    "        return x"
   ]
  },
  {
   "cell_type": "code",
   "execution_count": 49,
   "metadata": {},
   "outputs": [],
   "source": [
    "DEFAULT_CONFIG.update({\n",
    "    'n_heads':8\n",
    "})"
   ]
  },
  {
   "cell_type": "code",
   "execution_count": 50,
   "metadata": {},
   "outputs": [],
   "source": [
    "class RopeModel(nn.Module):\n",
    "    def __init__(self, config):\n",
    "        super().__init__()\n",
    "        self.config = config\n",
    "\n",
    "        # Embedding layer에 토큰 넣어주기\n",
    "        self.embedding = nn.Embedding(config['vocab_size'], config['d_model'])\n",
    "        \n",
    "        # RMSNorm layer for pre-normalization\n",
    "        self.rms = RMSNorm((config['context_window'], config['d_model']))\n",
    "        \n",
    "        # RoPEMaskedMultiheadAttention layer\n",
    "        self.rope_attention = RoPEMaskedMultiheadAttention(config)\n",
    "\n",
    "        # Linear layer followed by ReLU activation\n",
    "        self.linear = nn.Sequential(\n",
    "            nn.Linear(config['d_model'], config['d_model']),\n",
    "            nn.ReLU(),\n",
    "        )\n",
    "\n",
    "        # Final linear layer 예측\n",
    "        self.last_linear = nn.Linear(config['d_model'], config['vocab_size'])\n",
    "\n",
    "        print(\"model params:\", sum([m.numel() for m in self.parameters()]))\n",
    "\n",
    "    def forward(self, idx, targets=None):\n",
    "        # idx: input indices\n",
    "        x = self.embedding(idx)\n",
    "\n",
    "        # One block of attention\n",
    "        x = self.rms(x)  # RMS pre-normalization\n",
    "        x = x + self.rope_attention(x)\n",
    "\n",
    "        x = self.rms(x)  # RMS pre-normalization\n",
    "        x = x + self.linear(x)\n",
    "\n",
    "        logits = self.last_linear(x)\n",
    "\n",
    "        if targets is not None:\n",
    "            loss = F.cross_entropy(logits.view(-1, self.config['vocab_size']), targets.view(-1))\n",
    "            return logits, loss\n",
    "\n",
    "        else:\n",
    "            return logits"
   ]
  },
  {
   "cell_type": "code",
   "execution_count": 51,
   "metadata": {},
   "outputs": [
    {
     "name": "stdout",
     "output_type": "stream",
     "text": [
      "model params: 559681\n",
      "Validation loss: 2.0644957304000853\n"
     ]
    },
    {
     "data": {
      "text/plain": [
       "<Axes: >"
      ]
     },
     "execution_count": 51,
     "metadata": {},
     "output_type": "execute_result"
    },
    {
     "data": {
      "image/png": "[encoded data removed]",
      "text/plain": [
       "<Figure size 640x480 with 1 Axes>"
      ]
     },
     "metadata": {},
     "output_type": "display_data"
    }
   ],
   "source": [
    "model=RopeModel(DEFAULT_CONFIG)\n",
    "\n",
    "xs, ys=get_batches(dataset, 'train', DEFAULT_CONFIG['batch_size'], DEFAULT_CONFIG['context_window'])\n",
    "\n",
    "logits, loss=model(xs, ys)\n",
    "\n",
    "optimizer=torch.optim.Adam(model.parameters())\n",
    "\n",
    "train(model, optimizer)\n",
    "# 모델 파라미터는 559681이고 손실함수는 다음과 같다."
   ]
  }
 ],
 "metadata": {
  "kernelspec": {
   "display_name": "torch",
   "language": "python",
   "name": "python3"
  },
  "language_info": {
   "codemirror_mode": {
    "name": "ipython",
    "version": 3
   },
   "file_extension": ".py",
   "mimetype": "text/x-python",
   "name": "python",
   "nbconvert_exporter": "python",
   "pygments_lexer": "ipython3",
   "version": "3.10.0"
  }
 },
 "nbformat": 4,
 "nbformat_minor": 2
}
